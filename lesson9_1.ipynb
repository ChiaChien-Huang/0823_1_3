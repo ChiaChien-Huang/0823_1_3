{
 "cells": [
  {
   "cell_type": "code",
   "execution_count": 1,
   "metadata": {},
   "outputs": [],
   "source": [
    "import random\n",
    "\n",
    "def generate_stu() ->list[int]:\n",
    "    scores=[]\n",
    "    for _ in range(5):\n",
    "        scores.append(random.randint(50,100))\n",
    "    return scores\n",
    "\n",
    "def getName(num:int) ->list[str]:\n",
    "    with open(\"names.txt\",encoding=\"utf-8\") as file:\n",
    "        names=[]\n",
    "        for name in file:\n",
    "            names.append(name.rstrip())\n",
    "    return random.choices(names,k=num)"
   ]
  },
  {
   "cell_type": "code",
   "execution_count": 2,
   "metadata": {},
   "outputs": [
    {
     "name": "stdout",
     "output_type": "stream",
     "text": [
      "請輸入學生人數:5\n"
     ]
    },
    {
     "data": {
      "text/plain": [
       "[['羅幸娥', 52, 50, 86, 57, 78],\n",
       " ['陳文賢', 94, 51, 75, 95, 62],\n",
       " ['林建宏', 63, 75, 67, 92, 67],\n",
       " ['李慶亮', 64, 80, 94, 100, 92],\n",
       " ['黃婷婷', 73, 98, 50, 71, 53]]"
      ]
     },
     "execution_count": 2,
     "metadata": {},
     "output_type": "execute_result"
    }
   ],
   "source": [
    "import pyinputplus as pyip\n",
    "\n",
    "num=pyip.inputInt(\"請輸入學生人數:\",min=5,max=50)\n",
    "print(num)\n",
    "names=getName(num=num) #建立學生姓名的List\n",
    "students=[]\n",
    "for i in range(num):\n",
    "    scores=generate_stu() #建立學生的5個分數\n",
    "    scores.insert(0,names[i]) #將學生姓名加入至List內\n",
    "    students.append(scores)\n",
    "\n",
    "students"
   ]
  },
  {
   "cell_type": "code",
   "execution_count": 3,
   "metadata": {},
   "outputs": [
    {
     "name": "stdout",
     "output_type": "stream",
     "text": [
      "存檔成功\n"
     ]
    }
   ],
   "source": [
    "import csv\n",
    "with open(\"學生成績.csv\",mode='w',encoding=\"utf-8\",newline='') as file:\n",
    "    csv_writer=csv.writer(file)\n",
    "    csv_writer.writerows(students)\n",
    "print(\"存檔成功\")"
   ]
  },
  {
   "cell_type": "code",
   "execution_count": 9,
   "metadata": {},
   "outputs": [],
   "source": [
    "def save_csv_file(filename:str, data:list) ->bool:\n",
    "    try:\n",
    "        with open(filename,mode='w',encoding=\"utf-8\",newline='') as file:\n",
    "            csv_writer=csv.writer(file)\n",
    "            csv_writer.writerow([\"國文\",\"英文\",\"數學\",\"自然\",\"社會\"])\n",
    "            csv_writer.writerows(data)\n",
    "    except:\n",
    "        return False\n",
    "    else:\n",
    "        return True"
   ]
  },
  {
   "cell_type": "code",
   "execution_count": 11,
   "metadata": {},
   "outputs": [
    {
     "name": "stdout",
     "output_type": "stream",
     "text": [
      "存檔成功\n"
     ]
    }
   ],
   "source": [
    "fname=input(\"請輸入CSV儲存的檔案名稱:\")\n",
    "if save_csv_file(filename=f\"{fname}.csv\",data=students):\n",
    "    print(\"存檔成功\")\n",
    "else:\n",
    "    print(\"存檔失敗\")\n"
   ]
  }
 ],
 "metadata": {
  "kernelspec": {
   "display_name": "Python 3",
   "language": "python",
   "name": "python3"
  },
  "language_info": {
   "codemirror_mode": {
    "name": "ipython",
    "version": 3
   },
   "file_extension": ".py",
   "mimetype": "text/x-python",
   "name": "python",
   "nbconvert_exporter": "python",
   "pygments_lexer": "ipython3",
   "version": "3.10.8"
  },
  "orig_nbformat": 4
 },
 "nbformat": 4,
 "nbformat_minor": 2
}
