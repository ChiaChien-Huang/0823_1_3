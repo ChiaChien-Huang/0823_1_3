{
 "cells": [
  {
   "cell_type": "code",
   "execution_count": 2,
   "metadata": {},
   "outputs": [
    {
     "name": "stdout",
     "output_type": "stream",
     "text": [
      "請輸入要取得的名字數量:5\n"
     ]
    },
    {
     "data": {
      "text/plain": [
       "['洪奎夫', '景歡燦', '郭致恬', '許淑婷', '張慧君']"
      ]
     },
     "execution_count": 2,
     "metadata": {},
     "output_type": "execute_result"
    }
   ],
   "source": [
    "import pyinputplus as pyip\n",
    "import random\n",
    "\n",
    "with open(\"names.txt\",encoding=\"utf-8\") as file:\n",
    "    names=[]\n",
    "    for name in file: #串列資料\n",
    "        names.append(name.rstrip())\n",
    "num=pyip.inputInt(\"請輸入要取得的名字數量:\",min=0,max=50)\n",
    "print(num)\n",
    "random.choices(names,k=num)"
   ]
  },
  {
   "cell_type": "code",
   "execution_count": 6,
   "metadata": {},
   "outputs": [
    {
     "name": "stdout",
     "output_type": "stream",
     "text": [
      "請輸入要取得的名字數量"
     ]
    },
    {
     "data": {
      "text/plain": [
       "['簡佳樺', '盧必妍', '洪阿惠', '黃旻林', '黃柏宇']"
      ]
     },
     "execution_count": 6,
     "metadata": {},
     "output_type": "execute_result"
    }
   ],
   "source": [
    "import pyinputplus as pyip\n",
    "import random\n",
    "\n",
    "def getName(num:int) ->list[str]:\n",
    "    with open(\"names.txt\",encoding=\"utf-8\") as file:\n",
    "        names=[]\n",
    "        for name in file:\n",
    "            names.append(name.rstrip())\n",
    "    return random.choices(names,k=num)\n",
    "\n",
    "n=pyip.inputInt(\"請輸入要取得的名字數量\",min=0,max=50)\n",
    "getName(num=n)"
   ]
  }
 ],
 "metadata": {
  "kernelspec": {
   "display_name": "Python 3",
   "language": "python",
   "name": "python3"
  },
  "language_info": {
   "codemirror_mode": {
    "name": "ipython",
    "version": 3
   },
   "file_extension": ".py",
   "mimetype": "text/x-python",
   "name": "python",
   "nbconvert_exporter": "python",
   "pygments_lexer": "ipython3",
   "version": "3.10.8"
  },
  "orig_nbformat": 4
 },
 "nbformat": 4,
 "nbformat_minor": 2
}
