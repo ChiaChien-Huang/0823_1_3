{
 "cells": [
  {
   "cell_type": "code",
   "execution_count": 27,
   "metadata": {},
   "outputs": [],
   "source": [
    "#自訂的class\n",
    "class Student:\n",
    "    def __init__(self,n,c,e,m): #自訂的初始化\n",
    "        self.name=n #attribute屬性\n",
    "        self.chinese=c\n",
    "        self.english=e\n",
    "        self.math=m\n",
    "    #實體的方法\n",
    "    def student_info(self):\n",
    "        print(\"name:\",self.name)\n",
    "        print(\"chinese:\",self.chinese)\n",
    "        print(\"math:\",self.math)\n",
    "        print(\"english:\",self.english)    \n",
    "    \n",
    "    #實體的方法\n",
    "    def sum(self):\n",
    "        return self.chinese+self.english+self.math\n",
    "    \n",
    "    #實體方法\n",
    "    def average(self):\n",
    "        return self.sum()/3.0\n",
    "    \n",
    "    #overwrite內建的_repr_(self)\n",
    "    def __repr__(self): \n",
    "        return f\"這是Student實體\\n學生姓名是{self.name}\""
   ]
  },
  {
   "cell_type": "code",
   "execution_count": 29,
   "metadata": {},
   "outputs": [
    {
     "name": "stdout",
     "output_type": "stream",
     "text": [
      "name: Jerry\n",
      "chinese: 78\n",
      "math: 90\n",
      "english: 87\n",
      "總分 255\n",
      "平均 85.0\n",
      "這是Student實體\n",
      "學生姓名是Jerry\n",
      "=============\n",
      "name: Gary\n",
      "chinese: 79\n",
      "math: 77\n",
      "english: 67\n",
      "總分 223\n",
      "平均 74.33333333333333\n",
      "這是Student實體\n",
      "學生姓名是Gary\n",
      "=============\n",
      "name: Andy\n",
      "chinese: 75\n",
      "math: 88\n",
      "english: 67\n",
      "總分 230\n",
      "平均 76.66666666666667\n",
      "這是Student實體\n",
      "學生姓名是Andy\n",
      "=============\n"
     ]
    }
   ],
   "source": [
    "#()表示預設為_init_()\n",
    "stu1=Student(n=\"Jerry\",c=78,e=87,m=90)   \n",
    "stu1.student_info()\n",
    "print(\"總分\",stu1.sum())\n",
    "print(\"平均\",stu1.average())\n",
    "print(stu1)\n",
    "print(\"=============\")\n",
    "\n",
    "stu2=Student(n=\"Gary\",c=79,e=67,m=77)\n",
    "stu2.student_info()\n",
    "print(\"總分\",stu2.sum())\n",
    "print(\"平均\",stu2.average())\n",
    "print(stu2)\n",
    "print(\"=============\")\n",
    "\n",
    "stu3=Student(n=\"Andy\",c=75,e=67,m=88)\n",
    "stu3.student_info()\n",
    "print(\"總分\",stu3.sum())\n",
    "print(\"平均\",stu3.average())\n",
    "print(stu3)\n",
    "print(\"=============\")"
   ]
  }
 ],
 "metadata": {
  "kernelspec": {
   "display_name": "Python 3",
   "language": "python",
   "name": "python3"
  },
  "language_info": {
   "codemirror_mode": {
    "name": "ipython",
    "version": 3
   },
   "file_extension": ".py",
   "mimetype": "text/x-python",
   "name": "python",
   "nbconvert_exporter": "python",
   "pygments_lexer": "ipython3",
   "version": "3.10.8"
  },
  "orig_nbformat": 4
 },
 "nbformat": 4,
 "nbformat_minor": 2
}
