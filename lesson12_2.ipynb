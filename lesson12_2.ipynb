{
 "cells": [
  {
   "cell_type": "code",
   "execution_count": 3,
   "metadata": {},
   "outputs": [
    {
     "name": "stdout",
     "output_type": "stream",
     "text": [
      "輸入錯誤\n"
     ]
    }
   ],
   "source": [
    "try:\n",
    "    num=int(input(\"請輸入整數:\"))\n",
    "except ValueError:\n",
    "    print(\"輸入錯誤\")\n",
    "else:\n",
    "    print(num)\n",
    "\n"
   ]
  },
  {
   "cell_type": "code",
   "execution_count": 5,
   "metadata": {},
   "outputs": [
    {
     "name": "stdout",
     "output_type": "stream",
     "text": [
      "123\n"
     ]
    }
   ],
   "source": [
    "import pyinputplus\n",
    "name=pyinputplus.inputStr()\n",
    "print(name)"
   ]
  },
  {
   "cell_type": "code",
   "execution_count": 7,
   "metadata": {},
   "outputs": [
    {
     "name": "stdout",
     "output_type": "stream",
     "text": [
      "請輸入整數:'54faa' is not a number.\n",
      "請輸入整數:Blank values are not allowed.\n",
      "請輸入整數:56\n"
     ]
    }
   ],
   "source": [
    "import pyinputplus as pyip\n",
    "nums=pyip.inputNum(\"請輸入整數:\")\n",
    "print(nums)"
   ]
  },
  {
   "cell_type": "code",
   "execution_count": 8,
   "metadata": {},
   "outputs": [
    {
     "data": {
      "text/plain": [
       "set()"
      ]
     },
     "execution_count": 8,
     "metadata": {},
     "output_type": "execute_result"
    }
   ],
   "source": [
    "empty_set= set()\n",
    "empty_set"
   ]
  },
  {
   "cell_type": "code",
   "execution_count": 9,
   "metadata": {},
   "outputs": [
    {
     "data": {
      "text/plain": [
       "dict"
      ]
     },
     "execution_count": 9,
     "metadata": {},
     "output_type": "execute_result"
    }
   ],
   "source": [
    "empty_set ={}\n",
    "type(empty_set)"
   ]
  },
  {
   "cell_type": "code",
   "execution_count": 13,
   "metadata": {},
   "outputs": [
    {
     "data": {
      "text/plain": [
       "{0, 2, 4, 6, 8, 10, 12}"
      ]
     },
     "execution_count": 13,
     "metadata": {},
     "output_type": "execute_result"
    }
   ],
   "source": [
    "event_num={0,2,4,6,8,10,0,2,4,6,8,10}\n",
    "event_num.add(12)\n",
    "event_num"
   ]
  },
  {
   "cell_type": "code",
   "execution_count": 18,
   "metadata": {},
   "outputs": [
    {
     "name": "stdout",
     "output_type": "stream",
     "text": [
      "本期大樂透電腦選號號碼如下:\n",
      "35 8 40 12 47 18 \n",
      "特別號:26\n"
     ]
    }
   ],
   "source": [
    "#撰寫一個大樂透電腦自動選號程式，程式執行會以亂數的方式顯示1-49之間七個不重複的大樂透號碼。\n",
    "\n",
    "import random\n",
    "lotos = set()\n",
    "while len(lotos)<7:\n",
    "    lotos.add(random.randint(1,49))\n",
    "lotos_ls=list(lotos)\n",
    "lotos_ls\n",
    "\n",
    "print(\"本期大樂透電腦選號號碼如下:\")\n",
    "for num in lotos_ls[0:6]:\n",
    "    print(num,end=\" \")\n",
    "print()\n",
    "print(f\"特別號:{lotos_ls[-1]}\")"
   ]
  },
  {
   "cell_type": "code",
   "execution_count": 25,
   "metadata": {},
   "outputs": [
    {
     "name": "stdout",
     "output_type": "stream",
     "text": [
      "請輸入電腦選號的組數:(最多10組)\n",
      "本期大樂透電腦選號號碼如下:\n",
      "第1組號碼:\n",
      "38 39 8 42 45 19 \n",
      "特別號:28\n",
      "\n",
      "第2組號碼:\n",
      "38 39 42 11 16 49 \n",
      "特別號:21\n",
      "\n",
      "第3組號碼:\n",
      "32 36 11 44 13 18 \n",
      "特別號:26\n",
      "\n",
      "第4組號碼:\n",
      "35 36 8 10 14 47 \n",
      "特別號:29\n",
      "\n",
      "第5組號碼:\n",
      "2 9 44 13 46 49 \n",
      "特別號:21\n",
      "\n"
     ]
    }
   ],
   "source": [
    "import pyinputplus as pyip\n",
    "import random\n",
    "def generate_loto() ->list:\n",
    "    lotos = set()\n",
    "    while len(lotos)<7:\n",
    "        lotos.add(random.randint(1,49))\n",
    "    return list(lotos)\n",
    "\n",
    "num =pyip.inputInt(\"請輸入電腦選號的組數:(最多10組)\\n\", max=10)\n",
    "print(\"本期大樂透電腦選號號碼如下:\")\n",
    "for i in range(num):\n",
    "    print(f\"第{i+1}組號碼:\")\n",
    "    lotos_ls =generate_loto()\n",
    "    for num in lotos_ls[0:6]:\n",
    "        print(num,end=\" \")\n",
    "    print()\n",
    "    print(f\"特別號:{lotos_ls[-1]}\\n\")"
   ]
  }
 ],
 "metadata": {
  "kernelspec": {
   "display_name": "Python 3",
   "language": "python",
   "name": "python3"
  },
  "language_info": {
   "codemirror_mode": {
    "name": "ipython",
    "version": 3
   },
   "file_extension": ".py",
   "mimetype": "text/x-python",
   "name": "python",
   "nbconvert_exporter": "python",
   "pygments_lexer": "ipython3",
   "version": "3.10.8"
  }
 },
 "nbformat": 4,
 "nbformat_minor": 2
}
