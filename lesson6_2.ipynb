{
 "cells": [
  {
   "cell_type": "code",
   "execution_count": 18,
   "metadata": {},
   "outputs": [
    {
     "name": "stdout",
     "output_type": "stream",
     "text": [
      "---------猜數字遊戲--------\n",
      "\n",
      "再大一點\n",
      "總共猜了1次\n",
      "bingno,答案是40\n",
      "總共猜了2次\n",
      "遊戲結束\n"
     ]
    }
   ],
   "source": [
    "#猜數字遊戲\n",
    "#1-10：可隨時更改\n",
    "#讓使用者去猜數字\n",
    "\n",
    "import random\n",
    "\n",
    "min=1\n",
    "max=50\n",
    "count=0\n",
    "target=random.randint(min,max)\n",
    "print(\"---------猜數字遊戲--------\\n\")\n",
    "while(True):\n",
    "    try:\n",
    "        guess=int(input(f\"請輸入數字開始猜數字{min}~{max}\"))\n",
    "    except:\n",
    "        print(\"輸入格式錯誤\")\n",
    "        count+=1\n",
    "        print(f\"總共猜了{count}次\")\n",
    "    else:\n",
    "        count+=1\n",
    "        if(guess>=min and guess<=max):  \n",
    "            if guess ==target:\n",
    "                print(f\"bingno,答案是{target}\")\n",
    "                print(f\"總共猜了{count}次\")\n",
    "                break\n",
    "            elif guess>target:\n",
    "                print(\"再小一點\")\n",
    "                max=guess -1   \n",
    "            elif guess<target:\n",
    "                print(\"再大一點\")\n",
    "                min=guess +1\n",
    "            print(f\"總共猜了{count}次\") \n",
    "        else:\n",
    "            print(\"超出範圍\")\n",
    "            print(f\"總共猜了{count}次\")\n",
    "\n",
    "print(\"遊戲結束\")"
   ]
  }
 ],
 "metadata": {
  "kernelspec": {
   "display_name": "Python 3",
   "language": "python",
   "name": "python3"
  },
  "language_info": {
   "codemirror_mode": {
    "name": "ipython",
    "version": 3
   },
   "file_extension": ".py",
   "mimetype": "text/x-python",
   "name": "python",
   "nbconvert_exporter": "python",
   "pygments_lexer": "ipython3",
   "version": "3.10.8"
  },
  "orig_nbformat": 4
 },
 "nbformat": 4,
 "nbformat_minor": 2
}
