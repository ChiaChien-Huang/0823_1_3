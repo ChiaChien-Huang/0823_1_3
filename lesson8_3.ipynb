{
 "cells": [
  {
   "cell_type": "code",
   "execution_count": 1,
   "metadata": {},
   "outputs": [
    {
     "data": {
      "text/plain": [
       "[78, 89, 67, 64, 92]"
      ]
     },
     "execution_count": 1,
     "metadata": {},
     "output_type": "execute_result"
    }
   ],
   "source": [
    "stu1=[78,89,67,64,92]\n",
    "stu1"
   ]
  },
  {
   "cell_type": "code",
   "execution_count": 2,
   "metadata": {},
   "outputs": [
    {
     "data": {
      "text/plain": [
       "[99, 62, 66, 63, 65]"
      ]
     },
     "execution_count": 2,
     "metadata": {},
     "output_type": "execute_result"
    }
   ],
   "source": [
    "import random\n",
    "stu2=[]\n",
    "for _ in range(5):\n",
    "    stu2.append(random.randint(50,100))\n",
    "stu2"
   ]
  },
  {
   "cell_type": "code",
   "execution_count": 5,
   "metadata": {},
   "outputs": [
    {
     "data": {
      "text/plain": [
       "[86, 57, 82, 58, 65]"
      ]
     },
     "execution_count": 5,
     "metadata": {},
     "output_type": "execute_result"
    }
   ],
   "source": [
    "import random\n",
    "\n",
    "def generate_stu():\n",
    "    scores=[]\n",
    "    for _ in range(5):\n",
    "        scores.append(random.randint(50,100))\n",
    "    return scores\n",
    "\n",
    "generate_stu()"
   ]
  },
  {
   "cell_type": "code",
   "execution_count": 6,
   "metadata": {},
   "outputs": [
    {
     "data": {
      "text/plain": [
       "[[50, 75, 61, 86, 90],\n",
       " [82, 78, 71, 89, 64],\n",
       " [76, 72, 92, 56, 60],\n",
       " [98, 98, 83, 90, 64],\n",
       " [66, 63, 89, 57, 86],\n",
       " [61, 75, 65, 92, 84],\n",
       " [65, 94, 60, 97, 74],\n",
       " [79, 77, 57, 82, 78],\n",
       " [52, 66, 77, 55, 90],\n",
       " [91, 59, 100, 71, 92],\n",
       " [54, 73, 72, 90, 55],\n",
       " [92, 79, 58, 64, 89],\n",
       " [94, 96, 80, 79, 70],\n",
       " [88, 58, 84, 55, 75],\n",
       " [78, 76, 100, 52, 97],\n",
       " [80, 60, 98, 96, 68],\n",
       " [91, 69, 54, 68, 90],\n",
       " [68, 81, 80, 70, 78],\n",
       " [100, 79, 58, 59, 82],\n",
       " [77, 81, 100, 82, 58],\n",
       " [93, 74, 76, 63, 96],\n",
       " [81, 80, 73, 80, 95],\n",
       " [82, 60, 89, 92, 62],\n",
       " [91, 70, 58, 80, 64],\n",
       " [81, 98, 94, 53, 83],\n",
       " [83, 65, 79, 73, 81],\n",
       " [74, 78, 93, 61, 79],\n",
       " [64, 56, 87, 85, 92],\n",
       " [88, 84, 60, 61, 87],\n",
       " [50, 72, 88, 79, 82],\n",
       " [63, 79, 77, 72, 73],\n",
       " [61, 93, 89, 83, 93],\n",
       " [62, 66, 77, 70, 82],\n",
       " [51, 85, 79, 81, 50],\n",
       " [70, 72, 92, 75, 71],\n",
       " [97, 55, 93, 86, 83],\n",
       " [64, 78, 89, 88, 85],\n",
       " [53, 77, 57, 97, 87],\n",
       " [59, 60, 66, 96, 93],\n",
       " [70, 96, 73, 87, 57],\n",
       " [63, 90, 72, 61, 92],\n",
       " [57, 64, 83, 56, 92],\n",
       " [68, 83, 71, 67, 55],\n",
       " [70, 52, 65, 85, 91],\n",
       " [93, 50, 100, 90, 55],\n",
       " [77, 66, 88, 78, 66],\n",
       " [70, 88, 62, 67, 71],\n",
       " [64, 85, 52, 63, 85],\n",
       " [78, 60, 67, 71, 83],\n",
       " [87, 77, 84, 74, 61]]"
      ]
     },
     "execution_count": 6,
     "metadata": {},
     "output_type": "execute_result"
    }
   ],
   "source": [
    "#建立50個學生\n",
    "students=[]\n",
    "for _ in range(50):\n",
    "    scores=generate_stu()\n",
    "    students.append(scores)\n",
    "\n",
    "students\n"
   ]
  }
 ],
 "metadata": {
  "kernelspec": {
   "display_name": "Python 3",
   "language": "python",
   "name": "python3"
  },
  "language_info": {
   "codemirror_mode": {
    "name": "ipython",
    "version": 3
   },
   "file_extension": ".py",
   "mimetype": "text/x-python",
   "name": "python",
   "nbconvert_exporter": "python",
   "pygments_lexer": "ipython3",
   "version": "3.10.8"
  },
  "orig_nbformat": 4
 },
 "nbformat": 4,
 "nbformat_minor": 2
}
