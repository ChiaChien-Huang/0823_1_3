{
 "cells": [
  {
   "cell_type": "code",
   "execution_count": 1,
   "metadata": {},
   "outputs": [
    {
     "data": {
      "text/plain": [
       "[78, 89, 67, 64, 92]"
      ]
     },
     "execution_count": 1,
     "metadata": {},
     "output_type": "execute_result"
    }
   ],
   "source": [
    "stu1=[78,89,67,64,92]\n",
    "stu1"
   ]
  },
  {
   "cell_type": "code",
   "execution_count": 2,
   "metadata": {},
   "outputs": [
    {
     "data": {
      "text/plain": [
       "[99, 62, 66, 63, 65]"
      ]
     },
     "execution_count": 2,
     "metadata": {},
     "output_type": "execute_result"
    }
   ],
   "source": [
    "import random\n",
    "stu2=[]\n",
    "for _ in range(5):\n",
    "    stu2.append(random.randint(50,100))\n",
    "stu2"
   ]
  },
  {
   "cell_type": "code",
   "execution_count": 5,
   "metadata": {},
   "outputs": [
    {
     "data": {
      "text/plain": [
       "[86, 57, 82, 58, 65]"
      ]
     },
     "execution_count": 5,
     "metadata": {},
     "output_type": "execute_result"
    }
   ],
   "source": [
    "import random\n",
    "\n",
    "def generate_stu():\n",
    "    scores=[]\n",
    "    for _ in range(5):\n",
    "        scores.append(random.randint(50,100))\n",
    "    return scores\n",
    "\n",
    "generate_stu()"
   ]
  },
  {
   "cell_type": "code",
   "execution_count": 14,
   "metadata": {},
   "outputs": [
    {
     "name": "stdout",
     "output_type": "stream",
     "text": [
      "超過範圍，請重新輸入\n",
      "超過範圍，請重新輸入\n",
      "[[75, 69, 85, 97, 98], [86, 91, 60, 51, 96], [86, 63, 99, 93, 64], [63, 77, 79, 88, 60], [81, 59, 77, 98, 89], [73, 74, 100, 54, 62], [81, 100, 70, 64, 50], [92, 55, 87, 59, 99], [95, 64, 73, 78, 70], [93, 61, 100, 73, 82]]\n"
     ]
    }
   ],
   "source": [
    "#建立50個學生\n",
    "while True:\n",
    "    try:\n",
    "        num=int(input(\"請輸入學生人數:\"))\n",
    "    except:\n",
    "        print(\"格式錯誤\")\n",
    "    else:\n",
    "        if not (num>=5 and num<=50):\n",
    "            print(\"超過範圍，請重新輸入\")\n",
    "            continue\n",
    "        students=[]\n",
    "        for _ in range(num):\n",
    "            scores=generate_stu()\n",
    "            students.append(scores)\n",
    "\n",
    "        print(students)\n",
    "        break"
   ]
  },
  {
   "cell_type": "code",
   "execution_count": 17,
   "metadata": {},
   "outputs": [
    {
     "name": "stdout",
     "output_type": "stream",
     "text": [
      "請輸入學生人數:Number must be at maximum 50.\n",
      "請輸入學生人數:Number must be at minimum 5.\n",
      "請輸入學生人數:"
     ]
    },
    {
     "data": {
      "text/plain": [
       "[[65, 71, 74, 65, 59],\n",
       " [56, 50, 95, 95, 98],\n",
       " [94, 87, 70, 67, 95],\n",
       " [80, 69, 96, 59, 66],\n",
       " [57, 59, 78, 96, 88],\n",
       " [96, 92, 90, 53, 63],\n",
       " [72, 61, 85, 84, 55],\n",
       " [84, 50, 89, 86, 54],\n",
       " [97, 81, 90, 78, 65],\n",
       " [59, 93, 93, 76, 97],\n",
       " [58, 81, 97, 69, 84],\n",
       " [52, 87, 95, 79, 53],\n",
       " [62, 52, 65, 98, 51],\n",
       " [51, 77, 56, 67, 73],\n",
       " [93, 61, 52, 87, 75]]"
      ]
     },
     "execution_count": 17,
     "metadata": {},
     "output_type": "execute_result"
    }
   ],
   "source": [
    "import pyinputplus as pyip\n",
    "\n",
    "num=pyip.inputInt(\"請輸入學生人數:\",min=5,max=50)\n",
    "students=[]\n",
    "for _ in range(num):\n",
    "    scores=generate_stu()\n",
    "    students.append(scores)\n",
    "\n",
    "students"
   ]
  }
 ],
 "metadata": {
  "kernelspec": {
   "display_name": "Python 3",
   "language": "python",
   "name": "python3"
  },
  "language_info": {
   "codemirror_mode": {
    "name": "ipython",
    "version": 3
   },
   "file_extension": ".py",
   "mimetype": "text/x-python",
   "name": "python",
   "nbconvert_exporter": "python",
   "pygments_lexer": "ipython3",
   "version": "3.10.8"
  },
  "orig_nbformat": 4
 },
 "nbformat": 4,
 "nbformat_minor": 2
}
