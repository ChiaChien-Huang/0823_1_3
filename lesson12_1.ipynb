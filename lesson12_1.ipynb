{
 "cells": [
  {
   "cell_type": "code",
   "execution_count": 12,
   "metadata": {},
   "outputs": [
    {
     "name": "stdout",
     "output_type": "stream",
     "text": [
      "<class 'str'>\n"
     ]
    },
    {
     "data": {
      "text/plain": [
       "'Jerry'"
      ]
     },
     "execution_count": 12,
     "metadata": {},
     "output_type": "execute_result"
    }
   ],
   "source": [
    "name ='jerry'\n",
    "\n",
    "print(type(name))\n",
    "#STR的實體方法，capitalize\n",
    "name.capitalize()"
   ]
  },
  {
   "cell_type": "code",
   "execution_count": 13,
   "metadata": {},
   "outputs": [
    {
     "name": "stdout",
     "output_type": "stream",
     "text": [
      "that is jerry's books.\n"
     ]
    }
   ],
   "source": [
    "words =r\"that is jerry's books.\"\n",
    "print(words)"
   ]
  },
  {
   "cell_type": "code",
   "execution_count": 14,
   "metadata": {},
   "outputs": [
    {
     "name": "stdout",
     "output_type": "stream",
     "text": [
      "Dear Jerry,\n",
      "\n",
      "Eve's cat has been arrested for catnapping, cat burglary, \n",
      "\n",
      "and extortion. Sincerely Bob.\n"
     ]
    }
   ],
   "source": [
    "#多行文字\n",
    "sentences ='''Dear Jerry,\n",
    "\n",
    "Eve's cat has been arrested for catnapping, cat burglary, \n",
    "\n",
    "and extortion. Sincerely Bob.'''\n",
    "\n",
    "print(sentences)"
   ]
  },
  {
   "cell_type": "code",
   "execution_count": 15,
   "metadata": {},
   "outputs": [
    {
     "name": "stdout",
     "output_type": "stream",
     "text": [
      "a b c d e f g h i j k l m n o p q r s t u v w x y z "
     ]
    }
   ],
   "source": [
    "letters ='abcdefghijklmnopqrstuvwxyz'\n",
    "for i in letters:\n",
    "    print(i,end=' ')"
   ]
  },
  {
   "cell_type": "code",
   "execution_count": 16,
   "metadata": {},
   "outputs": [
    {
     "data": {
      "text/plain": [
       "('a', 'z', 'abcde', 'vwxyz')"
      ]
     },
     "execution_count": 16,
     "metadata": {},
     "output_type": "execute_result"
    }
   ],
   "source": [
    "letters[0], letters[-1], letters[:5], letters[-5:]"
   ]
  },
  {
   "cell_type": "code",
   "execution_count": 17,
   "metadata": {},
   "outputs": [
    {
     "name": "stdout",
     "output_type": "stream",
     "text": [
      "Penny\n"
     ]
    }
   ],
   "source": [
    "name='Henny'\n",
    "name=name.replace('H','P') #接收更改後的name\n",
    "print(name)"
   ]
  },
  {
   "cell_type": "code",
   "execution_count": 18,
   "metadata": {},
   "outputs": [
    {
     "data": {
      "text/plain": [
       "'2023-10-02'"
      ]
     },
     "execution_count": 18,
     "metadata": {},
     "output_type": "execute_result"
    }
   ],
   "source": [
    "\n",
    "list1='2023/10/02'.split(sep='/')\n",
    "'-'.join(list1)"
   ]
  },
  {
   "cell_type": "code",
   "execution_count": 19,
   "metadata": {},
   "outputs": [
    {
     "name": "stdout",
     "output_type": "stream",
     "text": [
      "--------早安項目--------\n",
      "三明治............   35元\n",
      "蘋果派............   45元\n",
      "漢堡.............   60元\n"
     ]
    }
   ],
   "source": [
    "print('早安項目'.center(20,'-'))\n",
    "print('三明治'.ljust(15,'.'),end=' ')\n",
    "print('35元'.rjust(5))\n",
    "print('蘋果派'.ljust(15,'.'),end=' ')\n",
    "print('45元'.rjust(5))\n",
    "print('漢堡'.ljust(15,'.'),end=' ')\n",
    "print('60元'.rjust(5))"
   ]
  },
  {
   "cell_type": "code",
   "execution_count": 20,
   "metadata": {},
   "outputs": [
    {
     "name": "stdout",
     "output_type": "stream",
     "text": [
      "--------早餐項目--------\n",
      "三明治............  35元\n",
      "蘋果派............  45元\n",
      "漢堡.............  60元\n",
      "\n"
     ]
    }
   ],
   "source": [
    "items=''\n",
    "items+= '早餐項目'.center(20,'-')\n",
    "items+= \"\\n\"\n",
    "items+= '三明治'.ljust(15,'.')\n",
    "items+= '35元'.rjust(5)\n",
    "items+= \"\\n\"\n",
    "items+= '蘋果派'.ljust(15,'.')\n",
    "items+= '45元'.rjust(5)\n",
    "items+= \"\\n\"\n",
    "items+= '漢堡'.ljust(15,'.')\n",
    "items+= '60元'.rjust(5)\n",
    "items+= \"\\n\"\n",
    "\n",
    "print(items)\n"
   ]
  }
 ],
 "metadata": {
  "kernelspec": {
   "display_name": "Python 3",
   "language": "python",
   "name": "python3"
  },
  "language_info": {
   "codemirror_mode": {
    "name": "ipython",
    "version": 3
   },
   "file_extension": ".py",
   "mimetype": "text/x-python",
   "name": "python",
   "nbconvert_exporter": "python",
   "pygments_lexer": "ipython3",
   "version": "3.10.8"
  }
 },
 "nbformat": 4,
 "nbformat_minor": 2
}
