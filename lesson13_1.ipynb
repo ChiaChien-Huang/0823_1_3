{
 "cells": [
  {
   "cell_type": "code",
   "execution_count": 3,
   "metadata": {},
   "outputs": [
    {
     "name": "stdout",
     "output_type": "stream",
     "text": [
      "請輸入手機號碼:(xxxx-xxx-xxx)\n",
      "你的手機號碼是:0931-321-321\n"
     ]
    }
   ],
   "source": [
    "#請檢查台灣手號碼輸入格式(xxxx-ooo-ooo)\n",
    "\n",
    "import pyinputplus as pyip\n",
    "\n",
    "def isPhonenumber (phone:str) ->bool:\n",
    "    if len(phone) !=12:\n",
    "        return False\n",
    "    elif not phone[0:4].isdigit():\n",
    "        return False\n",
    "    elif phone[4]!=\"-\":\n",
    "        return False\n",
    "    elif not phone[5:8].isdigit():\n",
    "        return False\n",
    "    elif phone[8]!=\"-\":\n",
    "        return False\n",
    "    elif not phone[9:12].isdigit():\n",
    "        return False\n",
    "    else:\n",
    "        return True\n",
    "\n",
    "phone_str =pyip.inputStr(\"請輸入手機號碼:(xxxx-xxx-xxx)\\n\")\n",
    "\n",
    "if isPhonenumber(phone_str):\n",
    "    print(f\"你的手機號碼是:{phone_str}\")\n",
    "else:\n",
    "    print(\"格式錯誤\")\n"
   ]
  },
  {
   "cell_type": "code",
   "execution_count": 4,
   "metadata": {},
   "outputs": [
    {
     "name": "stdout",
     "output_type": "stream",
     "text": [
      "請輸入手機號碼:(xxxx-xxx-xxx)\n",
      "格式錯誤\n"
     ]
    }
   ],
   "source": [
    "#請檢查台灣手號碼輸入格式(xxxx-ooo-ooo)\n",
    "\n",
    "import pyinputplus as pyip\n",
    "import re\n",
    "\n",
    "def isPhonenumber (phone:str) ->bool:\n",
    "    phonNumRegex =re.compile(r'\\d\\d\\d\\d-\\d\\d\\d-\\d\\d\\d')\n",
    "    phoneMatch =re.match(phonNumRegex,phone)\n",
    "    if len(phone) !=12:\n",
    "        return False\n",
    "    elif phoneMatch is None:\n",
    "        return False\n",
    "    else:\n",
    "        return True\n",
    "\n",
    "phone_str =pyip.inputStr(\"請輸入手機號碼:(xxxx-xxx-xxx)\\n\")\n",
    "\n",
    "if isPhonenumber(phone_str):\n",
    "    print(f\"你的手機號碼是:{phone_str}\")\n",
    "else:\n",
    "    print(\"格式錯誤\")"
   ]
  }
 ],
 "metadata": {
  "kernelspec": {
   "display_name": "Python 3",
   "language": "python",
   "name": "python3"
  },
  "language_info": {
   "codemirror_mode": {
    "name": "ipython",
    "version": 3
   },
   "file_extension": ".py",
   "mimetype": "text/x-python",
   "name": "python",
   "nbconvert_exporter": "python",
   "pygments_lexer": "ipython3",
   "version": "3.10.8"
  }
 },
 "nbformat": 4,
 "nbformat_minor": 2
}
