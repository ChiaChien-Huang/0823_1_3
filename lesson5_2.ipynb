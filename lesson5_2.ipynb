{
 "cells": [
  {
   "cell_type": "code",
   "execution_count": 1,
   "metadata": {},
   "outputs": [
    {
     "name": "stdout",
     "output_type": "stream",
     "text": [
      "1\n",
      "2\n",
      "3\n",
      "4\n",
      "5\n",
      "while end\n"
     ]
    }
   ],
   "source": [
    "#明確知道執行的次數\n",
    "count =1\n",
    "while count<6:\n",
    "    print(count)\n",
    "    count+=1\n",
    "print(\"while end\")"
   ]
  },
  {
   "cell_type": "code",
   "execution_count": 3,
   "metadata": {},
   "outputs": [
    {
     "name": "stdout",
     "output_type": "stream",
     "text": [
      "Congratulation, 已經存夠了，存了5個月，總存款為30356元\n"
     ]
    }
   ],
   "source": [
    "#不明確知道執行的次數\n",
    "#小明想要存錢買一輛車，機車每輛30000元，他將每月存的錢輸入，當存款足夠買機車時，就顯示訊息告知\n",
    "money =0\n",
    "month =0\n",
    "while money <30000:\n",
    "    month+=1\n",
    "    input_value=int(input(f\"請輸入第{month}個月份的存款\"))\n",
    "    money+=input_value\n",
    "\n",
    "print(f\"Congratulation, 已經存夠了，存了{month}個月，總存款為{money}元\")"
   ]
  }
 ],
 "metadata": {
  "kernelspec": {
   "display_name": "Python 3",
   "language": "python",
   "name": "python3"
  },
  "language_info": {
   "codemirror_mode": {
    "name": "ipython",
    "version": 3
   },
   "file_extension": ".py",
   "mimetype": "text/x-python",
   "name": "python",
   "nbconvert_exporter": "python",
   "pygments_lexer": "ipython3",
   "version": "3.10.8"
  },
  "orig_nbformat": 4
 },
 "nbformat": 4,
 "nbformat_minor": 2
}
